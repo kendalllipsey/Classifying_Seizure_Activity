{
 "cells": [
  {
   "cell_type": "markdown",
   "metadata": {},
   "source": [
    "# Reference Websites"
   ]
  },
  {
   "cell_type": "markdown",
   "metadata": {},
   "source": [
    "https://towardsdatascience.com/seizure-classification-d0bb92d19962\n",
    "   \n",
    "\n",
    "https://github.com/Mr-Jree/Epileptic-Seizure-Binary-Classification/blob/master/Seizure%20Binary%20Classfication%20Notebook.ipynb\n",
    "    \n",
    "If need ideas for visualizations: https://github.com/simonbcodes/seizure-dataset/blob/master/Seizure%20Visualizations.ipynb\n",
    "\n",
    "Nice slides: https://github.com/Mr-Jree/Epileptic-Seizure-Binary-Classification/blob/master/Seizure%20Binary%20Classification%20Slides.pdf"
   ]
  },
  {
   "cell_type": "markdown",
   "metadata": {},
   "source": [
    "# Imports"
   ]
  },
  {
   "cell_type": "code",
   "execution_count": 1,
   "metadata": {
    "ExecuteTime": {
     "end_time": "2020-04-27T13:17:33.161530Z",
     "start_time": "2020-04-27T13:17:17.519669Z"
    }
   },
   "outputs": [],
   "source": [
    "import numpy as np\n",
    "import bamboolib as bam\n",
    "import pandas as pd\n",
    "from sklearn.preprocessing import StandardScaler\n",
    "from sklearn.linear_model import LogisticRegression\n",
    "from sklearn.model_selection import GridSearchCV\n",
    "import matplotlib.pyplot as plt\n",
    "import tensorflow as tf\n",
    "from tensorflow.keras import datasets, layers, models"
   ]
  },
  {
   "cell_type": "markdown",
   "metadata": {},
   "source": [
    "# Read In"
   ]
  },
  {
   "cell_type": "code",
   "execution_count": 2,
   "metadata": {
    "ExecuteTime": {
     "end_time": "2020-04-27T13:17:33.674322Z",
     "start_time": "2020-04-27T13:17:33.195746Z"
    }
   },
   "outputs": [],
   "source": [
    "df=pd.read_csv('data.csv')"
   ]
  },
  {
   "cell_type": "code",
   "execution_count": 3,
   "metadata": {
    "ExecuteTime": {
     "end_time": "2020-04-27T13:17:34.569251Z",
     "start_time": "2020-04-27T13:17:33.751637Z"
    }
   },
   "outputs": [
    {
     "data": {
      "application/vnd.jupyter.widget-view+json": {
       "model_id": "0d1f0a08a77345b0bc793d037d02b663"
      },
      "text/html": [
       "<div>\n",
       "<style scoped>\n",
       "    .dataframe tbody tr th:only-of-type {\n",
       "        vertical-align: middle;\n",
       "    }\n",
       "\n",
       "    .dataframe tbody tr th {\n",
       "        vertical-align: top;\n",
       "    }\n",
       "\n",
       "    .dataframe thead th {\n",
       "        text-align: right;\n",
       "    }\n",
       "</style>\n",
       "<table border=\"1\" class=\"dataframe\">\n",
       "  <thead>\n",
       "    <tr style=\"text-align: right;\">\n",
       "      <th></th>\n",
       "      <th>Sample</th>\n",
       "      <th>X1</th>\n",
       "      <th>X2</th>\n",
       "      <th>X3</th>\n",
       "      <th>X4</th>\n",
       "      <th>X5</th>\n",
       "      <th>X6</th>\n",
       "      <th>X7</th>\n",
       "      <th>X8</th>\n",
       "      <th>X9</th>\n",
       "      <th>...</th>\n",
       "      <th>X170</th>\n",
       "      <th>X171</th>\n",
       "      <th>X172</th>\n",
       "      <th>X173</th>\n",
       "      <th>X174</th>\n",
       "      <th>X175</th>\n",
       "      <th>X176</th>\n",
       "      <th>X177</th>\n",
       "      <th>X178</th>\n",
       "      <th>y</th>\n",
       "    </tr>\n",
       "  </thead>\n",
       "  <tbody>\n",
       "    <tr>\n",
       "      <td>0</td>\n",
       "      <td>X21.V1.791</td>\n",
       "      <td>135</td>\n",
       "      <td>190</td>\n",
       "      <td>229</td>\n",
       "      <td>223</td>\n",
       "      <td>192</td>\n",
       "      <td>125</td>\n",
       "      <td>55</td>\n",
       "      <td>-9</td>\n",
       "      <td>-33</td>\n",
       "      <td>...</td>\n",
       "      <td>-17</td>\n",
       "      <td>-15</td>\n",
       "      <td>-31</td>\n",
       "      <td>-77</td>\n",
       "      <td>-103</td>\n",
       "      <td>-127</td>\n",
       "      <td>-116</td>\n",
       "      <td>-83</td>\n",
       "      <td>-51</td>\n",
       "      <td>4</td>\n",
       "    </tr>\n",
       "    <tr>\n",
       "      <td>1</td>\n",
       "      <td>X15.V1.924</td>\n",
       "      <td>386</td>\n",
       "      <td>382</td>\n",
       "      <td>356</td>\n",
       "      <td>331</td>\n",
       "      <td>320</td>\n",
       "      <td>315</td>\n",
       "      <td>307</td>\n",
       "      <td>272</td>\n",
       "      <td>244</td>\n",
       "      <td>...</td>\n",
       "      <td>164</td>\n",
       "      <td>150</td>\n",
       "      <td>146</td>\n",
       "      <td>152</td>\n",
       "      <td>157</td>\n",
       "      <td>156</td>\n",
       "      <td>154</td>\n",
       "      <td>143</td>\n",
       "      <td>129</td>\n",
       "      <td>1</td>\n",
       "    </tr>\n",
       "    <tr>\n",
       "      <td>2</td>\n",
       "      <td>X8.V1.1</td>\n",
       "      <td>-32</td>\n",
       "      <td>-39</td>\n",
       "      <td>-47</td>\n",
       "      <td>-37</td>\n",
       "      <td>-32</td>\n",
       "      <td>-36</td>\n",
       "      <td>-57</td>\n",
       "      <td>-73</td>\n",
       "      <td>-85</td>\n",
       "      <td>...</td>\n",
       "      <td>57</td>\n",
       "      <td>64</td>\n",
       "      <td>48</td>\n",
       "      <td>19</td>\n",
       "      <td>-12</td>\n",
       "      <td>-30</td>\n",
       "      <td>-35</td>\n",
       "      <td>-35</td>\n",
       "      <td>-36</td>\n",
       "      <td>5</td>\n",
       "    </tr>\n",
       "    <tr>\n",
       "      <td>3</td>\n",
       "      <td>X16.V1.60</td>\n",
       "      <td>-105</td>\n",
       "      <td>-101</td>\n",
       "      <td>-96</td>\n",
       "      <td>-92</td>\n",
       "      <td>-89</td>\n",
       "      <td>-95</td>\n",
       "      <td>-102</td>\n",
       "      <td>-100</td>\n",
       "      <td>-87</td>\n",
       "      <td>...</td>\n",
       "      <td>-82</td>\n",
       "      <td>-81</td>\n",
       "      <td>-80</td>\n",
       "      <td>-77</td>\n",
       "      <td>-85</td>\n",
       "      <td>-77</td>\n",
       "      <td>-72</td>\n",
       "      <td>-69</td>\n",
       "      <td>-65</td>\n",
       "      <td>5</td>\n",
       "    </tr>\n",
       "    <tr>\n",
       "      <td>4</td>\n",
       "      <td>X20.V1.54</td>\n",
       "      <td>-9</td>\n",
       "      <td>-65</td>\n",
       "      <td>-98</td>\n",
       "      <td>-102</td>\n",
       "      <td>-78</td>\n",
       "      <td>-48</td>\n",
       "      <td>-16</td>\n",
       "      <td>0</td>\n",
       "      <td>-21</td>\n",
       "      <td>...</td>\n",
       "      <td>4</td>\n",
       "      <td>2</td>\n",
       "      <td>-12</td>\n",
       "      <td>-32</td>\n",
       "      <td>-41</td>\n",
       "      <td>-65</td>\n",
       "      <td>-83</td>\n",
       "      <td>-89</td>\n",
       "      <td>-73</td>\n",
       "      <td>5</td>\n",
       "    </tr>\n",
       "  </tbody>\n",
       "</table>\n",
       "<p>5 rows × 180 columns</p>\n",
       "</div>"
      ],
      "text/plain": [
       "       Sample   X1   X2   X3   X4   X5   X6   X7   X8   X9  ...  X170  X171  \\\n",
       "0  X21.V1.791  135  190  229  223  192  125   55   -9  -33  ...   -17   -15   \n",
       "1  X15.V1.924  386  382  356  331  320  315  307  272  244  ...   164   150   \n",
       "2     X8.V1.1  -32  -39  -47  -37  -32  -36  -57  -73  -85  ...    57    64   \n",
       "3   X16.V1.60 -105 -101  -96  -92  -89  -95 -102 -100  -87  ...   -82   -81   \n",
       "4   X20.V1.54   -9  -65  -98 -102  -78  -48  -16    0  -21  ...     4     2   \n",
       "\n",
       "   X172  X173  X174  X175  X176  X177  X178  y  \n",
       "0   -31   -77  -103  -127  -116   -83   -51  4  \n",
       "1   146   152   157   156   154   143   129  1  \n",
       "2    48    19   -12   -30   -35   -35   -36  5  \n",
       "3   -80   -77   -85   -77   -72   -69   -65  5  \n",
       "4   -12   -32   -41   -65   -83   -89   -73  5  \n",
       "\n",
       "[5 rows x 180 columns]"
      ]
     },
     "metadata": {},
     "output_type": "display_data"
    }
   ],
   "source": [
    "df = df.rename(columns={'Unnamed: 0': 'Sample'})\n",
    "df.head()"
   ]
  },
  {
   "cell_type": "markdown",
   "metadata": {},
   "source": [
    "## Column Name Cleaning"
   ]
  },
  {
   "cell_type": "code",
   "execution_count": 4,
   "metadata": {
    "ExecuteTime": {
     "end_time": "2020-04-27T13:17:34.869095Z",
     "start_time": "2020-04-27T13:17:34.672338Z"
    }
   },
   "outputs": [
    {
     "data": {
      "application/vnd.jupyter.widget-view+json": {
       "model_id": "bfd70d90401143b28142003dc4a34903"
      },
      "text/html": [
       "<div>\n",
       "<style scoped>\n",
       "    .dataframe tbody tr th:only-of-type {\n",
       "        vertical-align: middle;\n",
       "    }\n",
       "\n",
       "    .dataframe tbody tr th {\n",
       "        vertical-align: top;\n",
       "    }\n",
       "\n",
       "    .dataframe thead th {\n",
       "        text-align: right;\n",
       "    }\n",
       "</style>\n",
       "<table border=\"1\" class=\"dataframe\">\n",
       "  <thead>\n",
       "    <tr style=\"text-align: right;\">\n",
       "      <th></th>\n",
       "      <th>Sample</th>\n",
       "      <th>X1</th>\n",
       "      <th>X2</th>\n",
       "      <th>X3</th>\n",
       "      <th>X4</th>\n",
       "      <th>X5</th>\n",
       "      <th>X6</th>\n",
       "      <th>X7</th>\n",
       "      <th>X8</th>\n",
       "      <th>X9</th>\n",
       "      <th>...</th>\n",
       "      <th>X171</th>\n",
       "      <th>X172</th>\n",
       "      <th>X173</th>\n",
       "      <th>X174</th>\n",
       "      <th>X175</th>\n",
       "      <th>X176</th>\n",
       "      <th>X177</th>\n",
       "      <th>X178</th>\n",
       "      <th>y</th>\n",
       "      <th>seconds</th>\n",
       "    </tr>\n",
       "  </thead>\n",
       "  <tbody>\n",
       "    <tr>\n",
       "      <td>0</td>\n",
       "      <td>X21.V1.791</td>\n",
       "      <td>135</td>\n",
       "      <td>190</td>\n",
       "      <td>229</td>\n",
       "      <td>223</td>\n",
       "      <td>192</td>\n",
       "      <td>125</td>\n",
       "      <td>55</td>\n",
       "      <td>-9</td>\n",
       "      <td>-33</td>\n",
       "      <td>...</td>\n",
       "      <td>-15</td>\n",
       "      <td>-31</td>\n",
       "      <td>-77</td>\n",
       "      <td>-103</td>\n",
       "      <td>-127</td>\n",
       "      <td>-116</td>\n",
       "      <td>-83</td>\n",
       "      <td>-51</td>\n",
       "      <td>4</td>\n",
       "      <td>21</td>\n",
       "    </tr>\n",
       "    <tr>\n",
       "      <td>1</td>\n",
       "      <td>X15.V1.924</td>\n",
       "      <td>386</td>\n",
       "      <td>382</td>\n",
       "      <td>356</td>\n",
       "      <td>331</td>\n",
       "      <td>320</td>\n",
       "      <td>315</td>\n",
       "      <td>307</td>\n",
       "      <td>272</td>\n",
       "      <td>244</td>\n",
       "      <td>...</td>\n",
       "      <td>150</td>\n",
       "      <td>146</td>\n",
       "      <td>152</td>\n",
       "      <td>157</td>\n",
       "      <td>156</td>\n",
       "      <td>154</td>\n",
       "      <td>143</td>\n",
       "      <td>129</td>\n",
       "      <td>1</td>\n",
       "      <td>15</td>\n",
       "    </tr>\n",
       "    <tr>\n",
       "      <td>2</td>\n",
       "      <td>X8.V1.1</td>\n",
       "      <td>-32</td>\n",
       "      <td>-39</td>\n",
       "      <td>-47</td>\n",
       "      <td>-37</td>\n",
       "      <td>-32</td>\n",
       "      <td>-36</td>\n",
       "      <td>-57</td>\n",
       "      <td>-73</td>\n",
       "      <td>-85</td>\n",
       "      <td>...</td>\n",
       "      <td>64</td>\n",
       "      <td>48</td>\n",
       "      <td>19</td>\n",
       "      <td>-12</td>\n",
       "      <td>-30</td>\n",
       "      <td>-35</td>\n",
       "      <td>-35</td>\n",
       "      <td>-36</td>\n",
       "      <td>5</td>\n",
       "      <td>8</td>\n",
       "    </tr>\n",
       "    <tr>\n",
       "      <td>3</td>\n",
       "      <td>X16.V1.60</td>\n",
       "      <td>-105</td>\n",
       "      <td>-101</td>\n",
       "      <td>-96</td>\n",
       "      <td>-92</td>\n",
       "      <td>-89</td>\n",
       "      <td>-95</td>\n",
       "      <td>-102</td>\n",
       "      <td>-100</td>\n",
       "      <td>-87</td>\n",
       "      <td>...</td>\n",
       "      <td>-81</td>\n",
       "      <td>-80</td>\n",
       "      <td>-77</td>\n",
       "      <td>-85</td>\n",
       "      <td>-77</td>\n",
       "      <td>-72</td>\n",
       "      <td>-69</td>\n",
       "      <td>-65</td>\n",
       "      <td>5</td>\n",
       "      <td>16</td>\n",
       "    </tr>\n",
       "    <tr>\n",
       "      <td>4</td>\n",
       "      <td>X20.V1.54</td>\n",
       "      <td>-9</td>\n",
       "      <td>-65</td>\n",
       "      <td>-98</td>\n",
       "      <td>-102</td>\n",
       "      <td>-78</td>\n",
       "      <td>-48</td>\n",
       "      <td>-16</td>\n",
       "      <td>0</td>\n",
       "      <td>-21</td>\n",
       "      <td>...</td>\n",
       "      <td>2</td>\n",
       "      <td>-12</td>\n",
       "      <td>-32</td>\n",
       "      <td>-41</td>\n",
       "      <td>-65</td>\n",
       "      <td>-83</td>\n",
       "      <td>-89</td>\n",
       "      <td>-73</td>\n",
       "      <td>5</td>\n",
       "      <td>20</td>\n",
       "    </tr>\n",
       "    <tr>\n",
       "      <td>...</td>\n",
       "      <td>...</td>\n",
       "      <td>...</td>\n",
       "      <td>...</td>\n",
       "      <td>...</td>\n",
       "      <td>...</td>\n",
       "      <td>...</td>\n",
       "      <td>...</td>\n",
       "      <td>...</td>\n",
       "      <td>...</td>\n",
       "      <td>...</td>\n",
       "      <td>...</td>\n",
       "      <td>...</td>\n",
       "      <td>...</td>\n",
       "      <td>...</td>\n",
       "      <td>...</td>\n",
       "      <td>...</td>\n",
       "      <td>...</td>\n",
       "      <td>...</td>\n",
       "      <td>...</td>\n",
       "      <td>...</td>\n",
       "      <td>...</td>\n",
       "    </tr>\n",
       "    <tr>\n",
       "      <td>11495</td>\n",
       "      <td>X22.V1.114</td>\n",
       "      <td>-22</td>\n",
       "      <td>-22</td>\n",
       "      <td>-23</td>\n",
       "      <td>-26</td>\n",
       "      <td>-36</td>\n",
       "      <td>-42</td>\n",
       "      <td>-45</td>\n",
       "      <td>-42</td>\n",
       "      <td>-45</td>\n",
       "      <td>...</td>\n",
       "      <td>16</td>\n",
       "      <td>12</td>\n",
       "      <td>5</td>\n",
       "      <td>-1</td>\n",
       "      <td>-18</td>\n",
       "      <td>-37</td>\n",
       "      <td>-47</td>\n",
       "      <td>-48</td>\n",
       "      <td>2</td>\n",
       "      <td>22</td>\n",
       "    </tr>\n",
       "    <tr>\n",
       "      <td>11496</td>\n",
       "      <td>X19.V1.354</td>\n",
       "      <td>-47</td>\n",
       "      <td>-11</td>\n",
       "      <td>28</td>\n",
       "      <td>77</td>\n",
       "      <td>141</td>\n",
       "      <td>211</td>\n",
       "      <td>246</td>\n",
       "      <td>240</td>\n",
       "      <td>193</td>\n",
       "      <td>...</td>\n",
       "      <td>-33</td>\n",
       "      <td>-7</td>\n",
       "      <td>14</td>\n",
       "      <td>27</td>\n",
       "      <td>48</td>\n",
       "      <td>77</td>\n",
       "      <td>117</td>\n",
       "      <td>170</td>\n",
       "      <td>1</td>\n",
       "      <td>19</td>\n",
       "    </tr>\n",
       "    <tr>\n",
       "      <td>11497</td>\n",
       "      <td>X8.V1.28</td>\n",
       "      <td>14</td>\n",
       "      <td>6</td>\n",
       "      <td>-13</td>\n",
       "      <td>-16</td>\n",
       "      <td>10</td>\n",
       "      <td>26</td>\n",
       "      <td>27</td>\n",
       "      <td>-9</td>\n",
       "      <td>4</td>\n",
       "      <td>...</td>\n",
       "      <td>-48</td>\n",
       "      <td>-61</td>\n",
       "      <td>-62</td>\n",
       "      <td>-67</td>\n",
       "      <td>-30</td>\n",
       "      <td>-2</td>\n",
       "      <td>-1</td>\n",
       "      <td>-8</td>\n",
       "      <td>5</td>\n",
       "      <td>8</td>\n",
       "    </tr>\n",
       "    <tr>\n",
       "      <td>11498</td>\n",
       "      <td>X10.V1.932</td>\n",
       "      <td>-40</td>\n",
       "      <td>-25</td>\n",
       "      <td>-9</td>\n",
       "      <td>-12</td>\n",
       "      <td>-2</td>\n",
       "      <td>12</td>\n",
       "      <td>7</td>\n",
       "      <td>19</td>\n",
       "      <td>22</td>\n",
       "      <td>...</td>\n",
       "      <td>135</td>\n",
       "      <td>148</td>\n",
       "      <td>143</td>\n",
       "      <td>116</td>\n",
       "      <td>86</td>\n",
       "      <td>68</td>\n",
       "      <td>59</td>\n",
       "      <td>55</td>\n",
       "      <td>3</td>\n",
       "      <td>10</td>\n",
       "    </tr>\n",
       "    <tr>\n",
       "      <td>11499</td>\n",
       "      <td>X16.V1.210</td>\n",
       "      <td>29</td>\n",
       "      <td>41</td>\n",
       "      <td>57</td>\n",
       "      <td>72</td>\n",
       "      <td>74</td>\n",
       "      <td>62</td>\n",
       "      <td>54</td>\n",
       "      <td>43</td>\n",
       "      <td>31</td>\n",
       "      <td>...</td>\n",
       "      <td>-25</td>\n",
       "      <td>-4</td>\n",
       "      <td>2</td>\n",
       "      <td>5</td>\n",
       "      <td>4</td>\n",
       "      <td>-2</td>\n",
       "      <td>2</td>\n",
       "      <td>20</td>\n",
       "      <td>4</td>\n",
       "      <td>16</td>\n",
       "    </tr>\n",
       "  </tbody>\n",
       "</table>\n",
       "<p>11500 rows × 181 columns</p>\n",
       "</div>"
      ],
      "text/plain": [
       "           Sample   X1   X2   X3   X4   X5   X6   X7   X8   X9  ...  X171  \\\n",
       "0      X21.V1.791  135  190  229  223  192  125   55   -9  -33  ...   -15   \n",
       "1      X15.V1.924  386  382  356  331  320  315  307  272  244  ...   150   \n",
       "2         X8.V1.1  -32  -39  -47  -37  -32  -36  -57  -73  -85  ...    64   \n",
       "3       X16.V1.60 -105 -101  -96  -92  -89  -95 -102 -100  -87  ...   -81   \n",
       "4       X20.V1.54   -9  -65  -98 -102  -78  -48  -16    0  -21  ...     2   \n",
       "...           ...  ...  ...  ...  ...  ...  ...  ...  ...  ...  ...   ...   \n",
       "11495  X22.V1.114  -22  -22  -23  -26  -36  -42  -45  -42  -45  ...    16   \n",
       "11496  X19.V1.354  -47  -11   28   77  141  211  246  240  193  ...   -33   \n",
       "11497    X8.V1.28   14    6  -13  -16   10   26   27   -9    4  ...   -48   \n",
       "11498  X10.V1.932  -40  -25   -9  -12   -2   12    7   19   22  ...   135   \n",
       "11499  X16.V1.210   29   41   57   72   74   62   54   43   31  ...   -25   \n",
       "\n",
       "       X172  X173  X174  X175  X176  X177  X178  y  seconds  \n",
       "0       -31   -77  -103  -127  -116   -83   -51  4       21  \n",
       "1       146   152   157   156   154   143   129  1       15  \n",
       "2        48    19   -12   -30   -35   -35   -36  5        8  \n",
       "3       -80   -77   -85   -77   -72   -69   -65  5       16  \n",
       "4       -12   -32   -41   -65   -83   -89   -73  5       20  \n",
       "...     ...   ...   ...   ...   ...   ...   ... ..      ...  \n",
       "11495    12     5    -1   -18   -37   -47   -48  2       22  \n",
       "11496    -7    14    27    48    77   117   170  1       19  \n",
       "11497   -61   -62   -67   -30    -2    -1    -8  5        8  \n",
       "11498   148   143   116    86    68    59    55  3       10  \n",
       "11499    -4     2     5     4    -2     2    20  4       16  \n",
       "\n",
       "[11500 rows x 181 columns]"
      ]
     },
     "metadata": {},
     "output_type": "display_data"
    }
   ],
   "source": [
    "df['seconds']=df.Sample.str.extract(r'(\\d{1,2})')\n",
    "df"
   ]
  },
  {
   "cell_type": "markdown",
   "metadata": {},
   "source": [
    "## Drop X in Column Names"
   ]
  },
  {
   "cell_type": "code",
   "execution_count": 5,
   "metadata": {
    "ExecuteTime": {
     "end_time": "2020-04-27T13:17:36.079615Z",
     "start_time": "2020-04-27T13:17:36.072284Z"
    }
   },
   "outputs": [],
   "source": [
    "#Drop X in column Names so that we can try and set values of Columns to time-series. \n",
    "def drop_prefix(self, prefix):\n",
    "    self.columns = self.columns.str.lstrip(prefix)\n",
    "    return self\n",
    "\n",
    "pd.core.frame.DataFrame.drop_prefix = drop_prefix"
   ]
  },
  {
   "cell_type": "code",
   "execution_count": 6,
   "metadata": {
    "ExecuteTime": {
     "end_time": "2020-04-27T13:17:37.070604Z",
     "start_time": "2020-04-27T13:17:37.063546Z"
    }
   },
   "outputs": [],
   "source": [
    "df=df.drop_prefix('X')\n",
    "#df.head()"
   ]
  },
  {
   "cell_type": "markdown",
   "metadata": {},
   "source": [
    "## Change to Binary Response (Seizure or Not Seizure)"
   ]
  },
  {
   "cell_type": "code",
   "execution_count": 7,
   "metadata": {
    "ExecuteTime": {
     "end_time": "2020-04-27T13:17:37.479006Z",
     "start_time": "2020-04-27T13:17:37.436750Z"
    }
   },
   "outputs": [],
   "source": [
    "df['patient']=df.Sample.str.extract(r'(V\\d{,2}.\\d{,3})')\n",
    "df['y'] = df['y'].replace([2, 3, 4, 5], 0)\n",
    "#df"
   ]
  },
  {
   "cell_type": "markdown",
   "metadata": {},
   "source": [
    "## Separate X features from y response"
   ]
  },
  {
   "cell_type": "code",
   "execution_count": 8,
   "metadata": {
    "ExecuteTime": {
     "end_time": "2020-04-27T13:17:38.350812Z",
     "start_time": "2020-04-27T13:17:38.335121Z"
    }
   },
   "outputs": [],
   "source": [
    "df_timeseries=df.drop(columns=['Sample'])"
   ]
  },
  {
   "cell_type": "code",
   "execution_count": 9,
   "metadata": {
    "ExecuteTime": {
     "end_time": "2020-04-27T13:17:38.791033Z",
     "start_time": "2020-04-27T13:17:38.770997Z"
    }
   },
   "outputs": [],
   "source": [
    "df_timeseries\n",
    "df_timeseries['seconds'] = df_timeseries['seconds'].astype(float, errors='ignore')\n",
    "df_timeseries['seconds'] = df_timeseries['seconds']/178\n",
    "#df_timeseries"
   ]
  },
  {
   "cell_type": "code",
   "execution_count": 10,
   "metadata": {
    "ExecuteTime": {
     "end_time": "2020-04-27T13:17:39.407812Z",
     "start_time": "2020-04-27T13:17:39.111952Z"
    }
   },
   "outputs": [
    {
     "data": {
      "application/vnd.jupyter.widget-view+json": {
       "model_id": "e2c35570f5fb44518ef8edc32c22650f"
      },
      "text/html": [
       "<div>\n",
       "<style scoped>\n",
       "    .dataframe tbody tr th:only-of-type {\n",
       "        vertical-align: middle;\n",
       "    }\n",
       "\n",
       "    .dataframe tbody tr th {\n",
       "        vertical-align: top;\n",
       "    }\n",
       "\n",
       "    .dataframe thead th {\n",
       "        text-align: right;\n",
       "    }\n",
       "</style>\n",
       "<table border=\"1\" class=\"dataframe\">\n",
       "  <thead>\n",
       "    <tr style=\"text-align: right;\">\n",
       "      <th></th>\n",
       "      <th>patient</th>\n",
       "      <th>0.0056179775280898875.1</th>\n",
       "      <th>0.011235955056179775.1</th>\n",
       "      <th>0.016853932584269662.1</th>\n",
       "      <th>0.02247191011235955.1</th>\n",
       "      <th>0.028089887640449437.1</th>\n",
       "      <th>0.033707865168539325.1</th>\n",
       "      <th>0.03932584269662921.1</th>\n",
       "      <th>0.0449438202247191.1</th>\n",
       "      <th>0.05056179775280899.1</th>\n",
       "      <th>...</th>\n",
       "      <th>0.07865168539325842.y</th>\n",
       "      <th>0.08426966292134831.y</th>\n",
       "      <th>0.0898876404494382.y</th>\n",
       "      <th>0.09550561797752809.y</th>\n",
       "      <th>0.10112359550561797.y</th>\n",
       "      <th>0.10674157303370786.y</th>\n",
       "      <th>0.11235955056179775.y</th>\n",
       "      <th>0.11797752808988764.y</th>\n",
       "      <th>0.12359550561797752.y</th>\n",
       "      <th>0.12921348314606743.y</th>\n",
       "    </tr>\n",
       "  </thead>\n",
       "  <tbody>\n",
       "    <tr>\n",
       "      <td>0</td>\n",
       "      <td>V1</td>\n",
       "      <td>12</td>\n",
       "      <td>-41</td>\n",
       "      <td>-45</td>\n",
       "      <td>68</td>\n",
       "      <td>-59</td>\n",
       "      <td>92</td>\n",
       "      <td>14</td>\n",
       "      <td>50</td>\n",
       "      <td>-24</td>\n",
       "      <td>...</td>\n",
       "      <td>0</td>\n",
       "      <td>0</td>\n",
       "      <td>0</td>\n",
       "      <td>0</td>\n",
       "      <td>0</td>\n",
       "      <td>0</td>\n",
       "      <td>0</td>\n",
       "      <td>0</td>\n",
       "      <td>0</td>\n",
       "      <td>0</td>\n",
       "    </tr>\n",
       "    <tr>\n",
       "      <td>1</td>\n",
       "      <td>V1.1</td>\n",
       "      <td>-56</td>\n",
       "      <td>-91</td>\n",
       "      <td>-61</td>\n",
       "      <td>-125</td>\n",
       "      <td>-60</td>\n",
       "      <td>-12</td>\n",
       "      <td>-113</td>\n",
       "      <td>-32</td>\n",
       "      <td>-39</td>\n",
       "      <td>...</td>\n",
       "      <td>0</td>\n",
       "      <td>0</td>\n",
       "      <td>0</td>\n",
       "      <td>0</td>\n",
       "      <td>0</td>\n",
       "      <td>0</td>\n",
       "      <td>0</td>\n",
       "      <td>0</td>\n",
       "      <td>0</td>\n",
       "      <td>0</td>\n",
       "    </tr>\n",
       "    <tr>\n",
       "      <td>2</td>\n",
       "      <td>V1.10</td>\n",
       "      <td>14</td>\n",
       "      <td>41</td>\n",
       "      <td>25</td>\n",
       "      <td>-58</td>\n",
       "      <td>-15</td>\n",
       "      <td>2</td>\n",
       "      <td>-9</td>\n",
       "      <td>-25</td>\n",
       "      <td>32</td>\n",
       "      <td>...</td>\n",
       "      <td>0</td>\n",
       "      <td>0</td>\n",
       "      <td>0</td>\n",
       "      <td>0</td>\n",
       "      <td>0</td>\n",
       "      <td>0</td>\n",
       "      <td>0</td>\n",
       "      <td>0</td>\n",
       "      <td>0</td>\n",
       "      <td>0</td>\n",
       "    </tr>\n",
       "    <tr>\n",
       "      <td>3</td>\n",
       "      <td>V1.101</td>\n",
       "      <td>-159</td>\n",
       "      <td>253</td>\n",
       "      <td>124</td>\n",
       "      <td>5</td>\n",
       "      <td>-135</td>\n",
       "      <td>-120</td>\n",
       "      <td>33</td>\n",
       "      <td>23</td>\n",
       "      <td>-23</td>\n",
       "      <td>...</td>\n",
       "      <td>0</td>\n",
       "      <td>0</td>\n",
       "      <td>0</td>\n",
       "      <td>0</td>\n",
       "      <td>0</td>\n",
       "      <td>0</td>\n",
       "      <td>0</td>\n",
       "      <td>0</td>\n",
       "      <td>0</td>\n",
       "      <td>0</td>\n",
       "    </tr>\n",
       "    <tr>\n",
       "      <td>4</td>\n",
       "      <td>V1.102</td>\n",
       "      <td>34</td>\n",
       "      <td>-16</td>\n",
       "      <td>-22</td>\n",
       "      <td>9</td>\n",
       "      <td>-39</td>\n",
       "      <td>-19</td>\n",
       "      <td>-29</td>\n",
       "      <td>-38</td>\n",
       "      <td>-5</td>\n",
       "      <td>...</td>\n",
       "      <td>0</td>\n",
       "      <td>0</td>\n",
       "      <td>0</td>\n",
       "      <td>0</td>\n",
       "      <td>0</td>\n",
       "      <td>0</td>\n",
       "      <td>0</td>\n",
       "      <td>0</td>\n",
       "      <td>0</td>\n",
       "      <td>0</td>\n",
       "    </tr>\n",
       "    <tr>\n",
       "      <td>...</td>\n",
       "      <td>...</td>\n",
       "      <td>...</td>\n",
       "      <td>...</td>\n",
       "      <td>...</td>\n",
       "      <td>...</td>\n",
       "      <td>...</td>\n",
       "      <td>...</td>\n",
       "      <td>...</td>\n",
       "      <td>...</td>\n",
       "      <td>...</td>\n",
       "      <td>...</td>\n",
       "      <td>...</td>\n",
       "      <td>...</td>\n",
       "      <td>...</td>\n",
       "      <td>...</td>\n",
       "      <td>...</td>\n",
       "      <td>...</td>\n",
       "      <td>...</td>\n",
       "      <td>...</td>\n",
       "      <td>...</td>\n",
       "      <td>...</td>\n",
       "    </tr>\n",
       "    <tr>\n",
       "      <td>495</td>\n",
       "      <td>V1.994</td>\n",
       "      <td>23</td>\n",
       "      <td>-75</td>\n",
       "      <td>-186</td>\n",
       "      <td>35</td>\n",
       "      <td>-38</td>\n",
       "      <td>-379</td>\n",
       "      <td>-230</td>\n",
       "      <td>510</td>\n",
       "      <td>126</td>\n",
       "      <td>...</td>\n",
       "      <td>1</td>\n",
       "      <td>1</td>\n",
       "      <td>1</td>\n",
       "      <td>1</td>\n",
       "      <td>1</td>\n",
       "      <td>1</td>\n",
       "      <td>1</td>\n",
       "      <td>1</td>\n",
       "      <td>1</td>\n",
       "      <td>1</td>\n",
       "    </tr>\n",
       "    <tr>\n",
       "      <td>496</td>\n",
       "      <td>V11</td>\n",
       "      <td>-24</td>\n",
       "      <td>-1</td>\n",
       "      <td>-11</td>\n",
       "      <td>54</td>\n",
       "      <td>17</td>\n",
       "      <td>17</td>\n",
       "      <td>64</td>\n",
       "      <td>-102</td>\n",
       "      <td>-50</td>\n",
       "      <td>...</td>\n",
       "      <td>0</td>\n",
       "      <td>0</td>\n",
       "      <td>0</td>\n",
       "      <td>0</td>\n",
       "      <td>0</td>\n",
       "      <td>0</td>\n",
       "      <td>0</td>\n",
       "      <td>0</td>\n",
       "      <td>0</td>\n",
       "      <td>0</td>\n",
       "    </tr>\n",
       "    <tr>\n",
       "      <td>497</td>\n",
       "      <td>V12</td>\n",
       "      <td>-42</td>\n",
       "      <td>-29</td>\n",
       "      <td>-90</td>\n",
       "      <td>-31</td>\n",
       "      <td>-39</td>\n",
       "      <td>-52</td>\n",
       "      <td>-57</td>\n",
       "      <td>-5</td>\n",
       "      <td>-14</td>\n",
       "      <td>...</td>\n",
       "      <td>0</td>\n",
       "      <td>0</td>\n",
       "      <td>0</td>\n",
       "      <td>0</td>\n",
       "      <td>0</td>\n",
       "      <td>0</td>\n",
       "      <td>0</td>\n",
       "      <td>0</td>\n",
       "      <td>0</td>\n",
       "      <td>0</td>\n",
       "    </tr>\n",
       "    <tr>\n",
       "      <td>498</td>\n",
       "      <td>V13</td>\n",
       "      <td>34</td>\n",
       "      <td>12</td>\n",
       "      <td>48</td>\n",
       "      <td>12</td>\n",
       "      <td>35</td>\n",
       "      <td>-13</td>\n",
       "      <td>6</td>\n",
       "      <td>36</td>\n",
       "      <td>95</td>\n",
       "      <td>...</td>\n",
       "      <td>0</td>\n",
       "      <td>0</td>\n",
       "      <td>0</td>\n",
       "      <td>0</td>\n",
       "      <td>0</td>\n",
       "      <td>0</td>\n",
       "      <td>0</td>\n",
       "      <td>0</td>\n",
       "      <td>0</td>\n",
       "      <td>0</td>\n",
       "    </tr>\n",
       "    <tr>\n",
       "      <td>499</td>\n",
       "      <td>V14</td>\n",
       "      <td>100</td>\n",
       "      <td>30</td>\n",
       "      <td>291</td>\n",
       "      <td>-1172</td>\n",
       "      <td>433</td>\n",
       "      <td>257</td>\n",
       "      <td>-853</td>\n",
       "      <td>-605</td>\n",
       "      <td>312</td>\n",
       "      <td>...</td>\n",
       "      <td>1</td>\n",
       "      <td>1</td>\n",
       "      <td>1</td>\n",
       "      <td>1</td>\n",
       "      <td>1</td>\n",
       "      <td>1</td>\n",
       "      <td>1</td>\n",
       "      <td>1</td>\n",
       "      <td>1</td>\n",
       "      <td>1</td>\n",
       "    </tr>\n",
       "  </tbody>\n",
       "</table>\n",
       "<p>500 rows × 4118 columns</p>\n",
       "</div>"
      ],
      "text/plain": [
       "    patient  0.0056179775280898875.1  0.011235955056179775.1  \\\n",
       "0        V1                       12                     -41   \n",
       "1      V1.1                      -56                     -91   \n",
       "2     V1.10                       14                      41   \n",
       "3    V1.101                     -159                     253   \n",
       "4    V1.102                       34                     -16   \n",
       "..      ...                      ...                     ...   \n",
       "495  V1.994                       23                     -75   \n",
       "496     V11                      -24                      -1   \n",
       "497     V12                      -42                     -29   \n",
       "498     V13                       34                      12   \n",
       "499     V14                      100                      30   \n",
       "\n",
       "     0.016853932584269662.1  0.02247191011235955.1  0.028089887640449437.1  \\\n",
       "0                       -45                     68                     -59   \n",
       "1                       -61                   -125                     -60   \n",
       "2                        25                    -58                     -15   \n",
       "3                       124                      5                    -135   \n",
       "4                       -22                      9                     -39   \n",
       "..                      ...                    ...                     ...   \n",
       "495                    -186                     35                     -38   \n",
       "496                     -11                     54                      17   \n",
       "497                     -90                    -31                     -39   \n",
       "498                      48                     12                      35   \n",
       "499                     291                  -1172                     433   \n",
       "\n",
       "     0.033707865168539325.1  0.03932584269662921.1  0.0449438202247191.1  \\\n",
       "0                        92                     14                    50   \n",
       "1                       -12                   -113                   -32   \n",
       "2                         2                     -9                   -25   \n",
       "3                      -120                     33                    23   \n",
       "4                       -19                    -29                   -38   \n",
       "..                      ...                    ...                   ...   \n",
       "495                    -379                   -230                   510   \n",
       "496                      17                     64                  -102   \n",
       "497                     -52                    -57                    -5   \n",
       "498                     -13                      6                    36   \n",
       "499                     257                   -853                  -605   \n",
       "\n",
       "     0.05056179775280899.1  ...  0.07865168539325842.y  0.08426966292134831.y  \\\n",
       "0                      -24  ...                      0                      0   \n",
       "1                      -39  ...                      0                      0   \n",
       "2                       32  ...                      0                      0   \n",
       "3                      -23  ...                      0                      0   \n",
       "4                       -5  ...                      0                      0   \n",
       "..                     ...  ...                    ...                    ...   \n",
       "495                    126  ...                      1                      1   \n",
       "496                    -50  ...                      0                      0   \n",
       "497                    -14  ...                      0                      0   \n",
       "498                     95  ...                      0                      0   \n",
       "499                    312  ...                      1                      1   \n",
       "\n",
       "     0.0898876404494382.y  0.09550561797752809.y  0.10112359550561797.y  \\\n",
       "0                       0                      0                      0   \n",
       "1                       0                      0                      0   \n",
       "2                       0                      0                      0   \n",
       "3                       0                      0                      0   \n",
       "4                       0                      0                      0   \n",
       "..                    ...                    ...                    ...   \n",
       "495                     1                      1                      1   \n",
       "496                     0                      0                      0   \n",
       "497                     0                      0                      0   \n",
       "498                     0                      0                      0   \n",
       "499                     1                      1                      1   \n",
       "\n",
       "     0.10674157303370786.y  0.11235955056179775.y  0.11797752808988764.y  \\\n",
       "0                        0                      0                      0   \n",
       "1                        0                      0                      0   \n",
       "2                        0                      0                      0   \n",
       "3                        0                      0                      0   \n",
       "4                        0                      0                      0   \n",
       "..                     ...                    ...                    ...   \n",
       "495                      1                      1                      1   \n",
       "496                      0                      0                      0   \n",
       "497                      0                      0                      0   \n",
       "498                      0                      0                      0   \n",
       "499                      1                      1                      1   \n",
       "\n",
       "     0.12359550561797752.y  0.12921348314606743.y  \n",
       "0                        0                      0  \n",
       "1                        0                      0  \n",
       "2                        0                      0  \n",
       "3                        0                      0  \n",
       "4                        0                      0  \n",
       "..                     ...                    ...  \n",
       "495                      1                      1  \n",
       "496                      0                      0  \n",
       "497                      0                      0  \n",
       "498                      0                      0  \n",
       "499                      1                      1  \n",
       "\n",
       "[500 rows x 4118 columns]"
      ]
     },
     "metadata": {},
     "output_type": "display_data"
    }
   ],
   "source": [
    "dff=df_timeseries.set_index(['patient','seconds'])\n",
    "dff\n",
    "\n",
    "dfj=dff.sort_values(by=['patient','seconds'])\n",
    "\n",
    "dg=dfj.unstack(level=1)\n",
    "dg.columns = dg.columns.swaplevel(0, 1)\n",
    "\n",
    "dg.columns = [\".\".join([str(index) for index in multi_index]) for multi_index in dg.columns.ravel()]\n",
    "dg = dg.reset_index()\n",
    "dg"
   ]
  },
  {
   "cell_type": "code",
   "execution_count": 17,
   "metadata": {
    "ExecuteTime": {
     "end_time": "2020-04-27T13:21:24.554073Z",
     "start_time": "2020-04-27T13:21:24.536979Z"
    }
   },
   "outputs": [],
   "source": [
    "listtodrop=dg.columns[4096:4118]\n",
    "dg=dg.drop(columns=listtodrop)\n"
   ]
  },
  {
   "cell_type": "code",
   "execution_count": 18,
   "metadata": {
    "ExecuteTime": {
     "end_time": "2020-04-27T13:21:25.919242Z",
     "start_time": "2020-04-27T13:21:25.690226Z"
    }
   },
   "outputs": [
    {
     "data": {
      "application/vnd.jupyter.widget-view+json": {
       "model_id": "1aa34b56513d4350a427d7c18ffe2f81"
      },
      "text/html": [
       "<div>\n",
       "<style scoped>\n",
       "    .dataframe tbody tr th:only-of-type {\n",
       "        vertical-align: middle;\n",
       "    }\n",
       "\n",
       "    .dataframe tbody tr th {\n",
       "        vertical-align: top;\n",
       "    }\n",
       "\n",
       "    .dataframe thead th {\n",
       "        text-align: right;\n",
       "    }\n",
       "</style>\n",
       "<table border=\"1\" class=\"dataframe\">\n",
       "  <thead>\n",
       "    <tr style=\"text-align: right;\">\n",
       "      <th></th>\n",
       "      <th>patient</th>\n",
       "      <th>1</th>\n",
       "      <th>2</th>\n",
       "      <th>3</th>\n",
       "      <th>4</th>\n",
       "      <th>5</th>\n",
       "      <th>6</th>\n",
       "      <th>7</th>\n",
       "      <th>8</th>\n",
       "      <th>9</th>\n",
       "      <th>...</th>\n",
       "      <th>4086</th>\n",
       "      <th>4087</th>\n",
       "      <th>4088</th>\n",
       "      <th>4089</th>\n",
       "      <th>4090</th>\n",
       "      <th>4091</th>\n",
       "      <th>4092</th>\n",
       "      <th>4093</th>\n",
       "      <th>4094</th>\n",
       "      <th>y</th>\n",
       "    </tr>\n",
       "  </thead>\n",
       "  <tbody>\n",
       "    <tr>\n",
       "      <td>0</td>\n",
       "      <td>V1</td>\n",
       "      <td>12</td>\n",
       "      <td>-41</td>\n",
       "      <td>-45</td>\n",
       "      <td>68</td>\n",
       "      <td>-59</td>\n",
       "      <td>92</td>\n",
       "      <td>14</td>\n",
       "      <td>50</td>\n",
       "      <td>-24</td>\n",
       "      <td>...</td>\n",
       "      <td>14</td>\n",
       "      <td>-19</td>\n",
       "      <td>-27</td>\n",
       "      <td>-69</td>\n",
       "      <td>10</td>\n",
       "      <td>14</td>\n",
       "      <td>-34</td>\n",
       "      <td>-9</td>\n",
       "      <td>-28</td>\n",
       "      <td>0</td>\n",
       "    </tr>\n",
       "    <tr>\n",
       "      <td>1</td>\n",
       "      <td>V1.1</td>\n",
       "      <td>-56</td>\n",
       "      <td>-91</td>\n",
       "      <td>-61</td>\n",
       "      <td>-125</td>\n",
       "      <td>-60</td>\n",
       "      <td>-12</td>\n",
       "      <td>-113</td>\n",
       "      <td>-32</td>\n",
       "      <td>-39</td>\n",
       "      <td>...</td>\n",
       "      <td>-22</td>\n",
       "      <td>-49</td>\n",
       "      <td>-47</td>\n",
       "      <td>-158</td>\n",
       "      <td>-86</td>\n",
       "      <td>40</td>\n",
       "      <td>-32</td>\n",
       "      <td>-18</td>\n",
       "      <td>-180</td>\n",
       "      <td>0</td>\n",
       "    </tr>\n",
       "    <tr>\n",
       "      <td>2</td>\n",
       "      <td>V1.10</td>\n",
       "      <td>14</td>\n",
       "      <td>41</td>\n",
       "      <td>25</td>\n",
       "      <td>-58</td>\n",
       "      <td>-15</td>\n",
       "      <td>2</td>\n",
       "      <td>-9</td>\n",
       "      <td>-25</td>\n",
       "      <td>32</td>\n",
       "      <td>...</td>\n",
       "      <td>-46</td>\n",
       "      <td>-46</td>\n",
       "      <td>-29</td>\n",
       "      <td>13</td>\n",
       "      <td>6</td>\n",
       "      <td>0</td>\n",
       "      <td>21</td>\n",
       "      <td>-91</td>\n",
       "      <td>-40</td>\n",
       "      <td>0</td>\n",
       "    </tr>\n",
       "    <tr>\n",
       "      <td>3</td>\n",
       "      <td>V1.101</td>\n",
       "      <td>-159</td>\n",
       "      <td>253</td>\n",
       "      <td>124</td>\n",
       "      <td>5</td>\n",
       "      <td>-135</td>\n",
       "      <td>-120</td>\n",
       "      <td>33</td>\n",
       "      <td>23</td>\n",
       "      <td>-23</td>\n",
       "      <td>...</td>\n",
       "      <td>168</td>\n",
       "      <td>-82</td>\n",
       "      <td>-117</td>\n",
       "      <td>46</td>\n",
       "      <td>-207</td>\n",
       "      <td>62</td>\n",
       "      <td>-77</td>\n",
       "      <td>-50</td>\n",
       "      <td>-100</td>\n",
       "      <td>0</td>\n",
       "    </tr>\n",
       "    <tr>\n",
       "      <td>4</td>\n",
       "      <td>V1.102</td>\n",
       "      <td>34</td>\n",
       "      <td>-16</td>\n",
       "      <td>-22</td>\n",
       "      <td>9</td>\n",
       "      <td>-39</td>\n",
       "      <td>-19</td>\n",
       "      <td>-29</td>\n",
       "      <td>-38</td>\n",
       "      <td>-5</td>\n",
       "      <td>...</td>\n",
       "      <td>-36</td>\n",
       "      <td>-5</td>\n",
       "      <td>9</td>\n",
       "      <td>5</td>\n",
       "      <td>11</td>\n",
       "      <td>-1</td>\n",
       "      <td>-13</td>\n",
       "      <td>13</td>\n",
       "      <td>0</td>\n",
       "      <td>0</td>\n",
       "    </tr>\n",
       "    <tr>\n",
       "      <td>...</td>\n",
       "      <td>...</td>\n",
       "      <td>...</td>\n",
       "      <td>...</td>\n",
       "      <td>...</td>\n",
       "      <td>...</td>\n",
       "      <td>...</td>\n",
       "      <td>...</td>\n",
       "      <td>...</td>\n",
       "      <td>...</td>\n",
       "      <td>...</td>\n",
       "      <td>...</td>\n",
       "      <td>...</td>\n",
       "      <td>...</td>\n",
       "      <td>...</td>\n",
       "      <td>...</td>\n",
       "      <td>...</td>\n",
       "      <td>...</td>\n",
       "      <td>...</td>\n",
       "      <td>...</td>\n",
       "      <td>...</td>\n",
       "      <td>...</td>\n",
       "    </tr>\n",
       "    <tr>\n",
       "      <td>495</td>\n",
       "      <td>V1.994</td>\n",
       "      <td>23</td>\n",
       "      <td>-75</td>\n",
       "      <td>-186</td>\n",
       "      <td>35</td>\n",
       "      <td>-38</td>\n",
       "      <td>-379</td>\n",
       "      <td>-230</td>\n",
       "      <td>510</td>\n",
       "      <td>126</td>\n",
       "      <td>...</td>\n",
       "      <td>-287</td>\n",
       "      <td>-249</td>\n",
       "      <td>423</td>\n",
       "      <td>50</td>\n",
       "      <td>236</td>\n",
       "      <td>417</td>\n",
       "      <td>87</td>\n",
       "      <td>180</td>\n",
       "      <td>-272</td>\n",
       "      <td>1</td>\n",
       "    </tr>\n",
       "    <tr>\n",
       "      <td>496</td>\n",
       "      <td>V11</td>\n",
       "      <td>-24</td>\n",
       "      <td>-1</td>\n",
       "      <td>-11</td>\n",
       "      <td>54</td>\n",
       "      <td>17</td>\n",
       "      <td>17</td>\n",
       "      <td>64</td>\n",
       "      <td>-102</td>\n",
       "      <td>-50</td>\n",
       "      <td>...</td>\n",
       "      <td>0</td>\n",
       "      <td>10</td>\n",
       "      <td>86</td>\n",
       "      <td>17</td>\n",
       "      <td>-34</td>\n",
       "      <td>-22</td>\n",
       "      <td>30</td>\n",
       "      <td>79</td>\n",
       "      <td>23</td>\n",
       "      <td>0</td>\n",
       "    </tr>\n",
       "    <tr>\n",
       "      <td>497</td>\n",
       "      <td>V12</td>\n",
       "      <td>-42</td>\n",
       "      <td>-29</td>\n",
       "      <td>-90</td>\n",
       "      <td>-31</td>\n",
       "      <td>-39</td>\n",
       "      <td>-52</td>\n",
       "      <td>-57</td>\n",
       "      <td>-5</td>\n",
       "      <td>-14</td>\n",
       "      <td>...</td>\n",
       "      <td>9</td>\n",
       "      <td>-17</td>\n",
       "      <td>-48</td>\n",
       "      <td>-69</td>\n",
       "      <td>-45</td>\n",
       "      <td>-132</td>\n",
       "      <td>1</td>\n",
       "      <td>-107</td>\n",
       "      <td>-29</td>\n",
       "      <td>0</td>\n",
       "    </tr>\n",
       "    <tr>\n",
       "      <td>498</td>\n",
       "      <td>V13</td>\n",
       "      <td>34</td>\n",
       "      <td>12</td>\n",
       "      <td>48</td>\n",
       "      <td>12</td>\n",
       "      <td>35</td>\n",
       "      <td>-13</td>\n",
       "      <td>6</td>\n",
       "      <td>36</td>\n",
       "      <td>95</td>\n",
       "      <td>...</td>\n",
       "      <td>8</td>\n",
       "      <td>19</td>\n",
       "      <td>53</td>\n",
       "      <td>64</td>\n",
       "      <td>-11</td>\n",
       "      <td>81</td>\n",
       "      <td>9</td>\n",
       "      <td>58</td>\n",
       "      <td>45</td>\n",
       "      <td>0</td>\n",
       "    </tr>\n",
       "    <tr>\n",
       "      <td>499</td>\n",
       "      <td>V14</td>\n",
       "      <td>100</td>\n",
       "      <td>30</td>\n",
       "      <td>291</td>\n",
       "      <td>-1172</td>\n",
       "      <td>433</td>\n",
       "      <td>257</td>\n",
       "      <td>-853</td>\n",
       "      <td>-605</td>\n",
       "      <td>312</td>\n",
       "      <td>...</td>\n",
       "      <td>11</td>\n",
       "      <td>254</td>\n",
       "      <td>125</td>\n",
       "      <td>498</td>\n",
       "      <td>863</td>\n",
       "      <td>-71</td>\n",
       "      <td>187</td>\n",
       "      <td>208</td>\n",
       "      <td>26</td>\n",
       "      <td>1</td>\n",
       "    </tr>\n",
       "  </tbody>\n",
       "</table>\n",
       "<p>500 rows × 4096 columns</p>\n",
       "</div>"
      ],
      "text/plain": [
       "    patient    1    2    3     4    5    6    7    8    9  ...  4086  4087  \\\n",
       "0        V1   12  -41  -45    68  -59   92   14   50  -24  ...    14   -19   \n",
       "1      V1.1  -56  -91  -61  -125  -60  -12 -113  -32  -39  ...   -22   -49   \n",
       "2     V1.10   14   41   25   -58  -15    2   -9  -25   32  ...   -46   -46   \n",
       "3    V1.101 -159  253  124     5 -135 -120   33   23  -23  ...   168   -82   \n",
       "4    V1.102   34  -16  -22     9  -39  -19  -29  -38   -5  ...   -36    -5   \n",
       "..      ...  ...  ...  ...   ...  ...  ...  ...  ...  ...  ...   ...   ...   \n",
       "495  V1.994   23  -75 -186    35  -38 -379 -230  510  126  ...  -287  -249   \n",
       "496     V11  -24   -1  -11    54   17   17   64 -102  -50  ...     0    10   \n",
       "497     V12  -42  -29  -90   -31  -39  -52  -57   -5  -14  ...     9   -17   \n",
       "498     V13   34   12   48    12   35  -13    6   36   95  ...     8    19   \n",
       "499     V14  100   30  291 -1172  433  257 -853 -605  312  ...    11   254   \n",
       "\n",
       "     4088  4089  4090  4091  4092  4093  4094  y  \n",
       "0     -27   -69    10    14   -34    -9   -28  0  \n",
       "1     -47  -158   -86    40   -32   -18  -180  0  \n",
       "2     -29    13     6     0    21   -91   -40  0  \n",
       "3    -117    46  -207    62   -77   -50  -100  0  \n",
       "4       9     5    11    -1   -13    13     0  0  \n",
       "..    ...   ...   ...   ...   ...   ...   ... ..  \n",
       "495   423    50   236   417    87   180  -272  1  \n",
       "496    86    17   -34   -22    30    79    23  0  \n",
       "497   -48   -69   -45  -132     1  -107   -29  0  \n",
       "498    53    64   -11    81     9    58    45  0  \n",
       "499   125   498   863   -71   187   208    26  1  \n",
       "\n",
       "[500 rows x 4096 columns]"
      ]
     },
     "metadata": {},
     "output_type": "display_data"
    }
   ],
   "source": [
    "ll=list(range(0,4096))\n",
    "\n",
    "dg.columns=ll\n",
    "\n",
    "dg.columns = [str(column) for column in dg.columns]\n",
    "dg = dg.rename(columns={'0': 'patient'})\n",
    "dg = dg.rename(columns={'4095': 'y'})\n",
    "dg"
   ]
  },
  {
   "cell_type": "code",
   "execution_count": 19,
   "metadata": {
    "ExecuteTime": {
     "end_time": "2020-04-27T13:21:29.003977Z",
     "start_time": "2020-04-27T13:21:28.989423Z"
    }
   },
   "outputs": [],
   "source": [
    "Xx = dg.drop(columns=[ 'y',  'patient']) #changed this to Xx so could scale\n",
    "y=dg[['y']]"
   ]
  },
  {
   "cell_type": "markdown",
   "metadata": {},
   "source": [
    "## Graph some data"
   ]
  },
  {
   "cell_type": "code",
   "execution_count": 21,
   "metadata": {
    "ExecuteTime": {
     "end_time": "2020-04-27T13:26:49.230516Z",
     "start_time": "2020-04-27T13:26:49.226716Z"
    }
   },
   "outputs": [],
   "source": [
    "Xy=Xx.values"
   ]
  },
  {
   "cell_type": "code",
   "execution_count": 22,
   "metadata": {
    "ExecuteTime": {
     "end_time": "2020-04-27T13:26:53.529737Z",
     "start_time": "2020-04-27T13:26:52.927802Z"
    },
    "scrolled": false
   },
   "outputs": [
    {
     "data": {
      "text/plain": [
       "Text(0.5, 0, 'Time')"
      ]
     },
     "execution_count": 22,
     "metadata": {},
     "output_type": "execute_result"
    },
    {
     "data": {
      "image/png": "[encoded data removed]",
      "text/plain": [
       "<Figure size 1656x576 with 1 Axes>"
      ]
     },
     "metadata": {
      "needs_background": "light"
     },
     "output_type": "display_data"
    }
   ],
   "source": [
    "plt.figure(figsize=(23,8))\n",
    "plt.plot(Xy[1,:])\n",
    "plt.title('Patient WITHOUT Seizure Activity')\n",
    "plt.ylabel('EEG Value')\n",
    "plt.xlabel('Time')"
   ]
  },
  {
   "cell_type": "code",
   "execution_count": 23,
   "metadata": {
    "ExecuteTime": {
     "end_time": "2020-04-27T13:26:56.467047Z",
     "start_time": "2020-04-27T13:26:55.963056Z"
    }
   },
   "outputs": [
    {
     "data": {
      "text/plain": [
       "Text(0.5, 0, 'Time')"
      ]
     },
     "execution_count": 23,
     "metadata": {},
     "output_type": "execute_result"
    },
    {
     "data": {
      "image/png": "[encoded data removed]",
      "text/plain": [
       "<Figure size 1656x576 with 1 Axes>"
      ]
     },
     "metadata": {
      "needs_background": "light"
     },
     "output_type": "display_data"
    }
   ],
   "source": [
    "plt.figure(figsize=(23,8))\n",
    "plt.plot(Xy[6,:],color='teal')\n",
    "plt.title('Patient WITH Seizure Activity')\n",
    "plt.ylabel('EEG Value')\n",
    "plt.xlabel('Time')"
   ]
  },
  {
   "cell_type": "markdown",
   "metadata": {},
   "source": [
    "# Scale the Data"
   ]
  },
  {
   "cell_type": "code",
   "execution_count": 15,
   "metadata": {
    "ExecuteTime": {
     "end_time": "2020-04-17T15:17:07.099604Z",
     "start_time": "2020-04-17T15:17:07.095615Z"
    }
   },
   "outputs": [],
   "source": [
    "#Check that the X data is not scaled\n",
    "#Xx "
   ]
  },
  {
   "cell_type": "code",
   "execution_count": 14,
   "metadata": {
    "ExecuteTime": {
     "end_time": "2020-04-23T12:27:53.473717Z",
     "start_time": "2020-04-23T12:27:51.412146Z"
    }
   },
   "outputs": [],
   "source": [
    "scaler = StandardScaler()\n",
    "Xs = scaler.fit_transform(Xx)\n",
    "X = pd.DataFrame(Xs,columns=Xx.columns)\n",
    "#Check that X is now dataframe and scaled\n",
    "#X"
   ]
  },
  {
   "cell_type": "markdown",
   "metadata": {},
   "source": [
    "# Train Test Split"
   ]
  },
  {
   "cell_type": "code",
   "execution_count": 15,
   "metadata": {
    "ExecuteTime": {
     "end_time": "2020-04-23T12:28:03.571157Z",
     "start_time": "2020-04-23T12:28:03.541167Z"
    }
   },
   "outputs": [],
   "source": [
    "from sklearn.model_selection import train_test_split\n",
    "X_train, X_test, y_train, y_test = train_test_split(X, y, test_size=0.2, random_state=42)"
   ]
  },
  {
   "cell_type": "markdown",
   "metadata": {},
   "source": [
    "# Logisitc Regression"
   ]
  },
  {
   "cell_type": "code",
   "execution_count": 18,
   "metadata": {
    "ExecuteTime": {
     "end_time": "2020-04-17T15:17:17.282053Z",
     "start_time": "2020-04-17T15:17:12.348270Z"
    }
   },
   "outputs": [
    {
     "name": "stdout",
     "output_type": "stream",
     "text": [
      "Fitting 5 folds for each of 4 candidates, totalling 20 fits\n"
     ]
    },
    {
     "name": "stderr",
     "output_type": "stream",
     "text": [
      "[Parallel(n_jobs=1)]: Using backend SequentialBackend with 1 concurrent workers.\n",
      "[Parallel(n_jobs=1)]: Done  20 out of  20 | elapsed:    4.5s finished\n"
     ]
    },
    {
     "data": {
      "application/vnd.jupyter.widget-view+json": {
       "model_id": "e33e0734d112482787e0aad92f8de1cc"
      },
      "text/html": [
       "<div>\n",
       "<style scoped>\n",
       "    .dataframe tbody tr th:only-of-type {\n",
       "        vertical-align: middle;\n",
       "    }\n",
       "\n",
       "    .dataframe tbody tr th {\n",
       "        vertical-align: top;\n",
       "    }\n",
       "\n",
       "    .dataframe thead th {\n",
       "        text-align: right;\n",
       "    }\n",
       "</style>\n",
       "<table border=\"1\" class=\"dataframe\">\n",
       "  <thead>\n",
       "    <tr style=\"text-align: right;\">\n",
       "      <th></th>\n",
       "      <th>param_C</th>\n",
       "      <th>mean_test_score</th>\n",
       "      <th>rank_test_score</th>\n",
       "    </tr>\n",
       "  </thead>\n",
       "  <tbody>\n",
       "    <tr>\n",
       "      <th>0</th>\n",
       "      <td>15</td>\n",
       "      <td>0.875</td>\n",
       "      <td>1</td>\n",
       "    </tr>\n",
       "    <tr>\n",
       "      <th>1</th>\n",
       "      <td>20</td>\n",
       "      <td>0.875</td>\n",
       "      <td>1</td>\n",
       "    </tr>\n",
       "    <tr>\n",
       "      <th>2</th>\n",
       "      <td>25</td>\n",
       "      <td>0.875</td>\n",
       "      <td>1</td>\n",
       "    </tr>\n",
       "    <tr>\n",
       "      <th>3</th>\n",
       "      <td>30</td>\n",
       "      <td>0.875</td>\n",
       "      <td>1</td>\n",
       "    </tr>\n",
       "  </tbody>\n",
       "</table>\n",
       "</div>"
      ],
      "text/plain": [
       "  param_C  mean_test_score  rank_test_score\n",
       "0      15            0.875                1\n",
       "1      20            0.875                1\n",
       "2      25            0.875                1\n",
       "3      30            0.875                1"
      ]
     },
     "metadata": {},
     "output_type": "display_data"
    }
   ],
   "source": [
    "log_reg = LogisticRegression(random_state=42,solver='lbfgs',max_iter=500)\n",
    "\n",
    "params={'C': [15,20,25,30]}\n",
    "\n",
    "clf = GridSearchCV(log_reg,params,cv=5,verbose = 1, scoring = 'accuracy')\n",
    "\n",
    "clf.fit(X_train, y_train)\n",
    "\n",
    "DF=pd.DataFrame(clf.cv_results_)\n",
    "DFF=DF[[\"param_C\",\"mean_test_score\",\"rank_test_score\"]]\n",
    "DFF #this shows little importance to C, best C value is 25"
   ]
  },
  {
   "cell_type": "code",
   "execution_count": 19,
   "metadata": {
    "ExecuteTime": {
     "end_time": "2020-04-17T15:17:19.055507Z",
     "start_time": "2020-04-17T15:17:18.711427Z"
    }
   },
   "outputs": [
    {
     "data": {
      "text/plain": [
       "LogisticRegression(C=25, class_weight=None, dual=False, fit_intercept=True,\n",
       "                   intercept_scaling=1, l1_ratio=None, max_iter=100,\n",
       "                   multi_class='warn', n_jobs=None, penalty='l2',\n",
       "                   random_state=42, solver='lbfgs', tol=0.0001, verbose=0,\n",
       "                   warm_start=False)"
      ]
     },
     "execution_count": 19,
     "metadata": {},
     "output_type": "execute_result"
    }
   ],
   "source": [
    "#Run model with Best C value found above, C=25\n",
    "log_reg = LogisticRegression( C=25,random_state=42,solver='lbfgs')\n",
    "log_reg.fit(X_train, y_train)"
   ]
  },
  {
   "cell_type": "code",
   "execution_count": 20,
   "metadata": {
    "ExecuteTime": {
     "end_time": "2020-04-17T15:17:20.435814Z",
     "start_time": "2020-04-17T15:17:20.428832Z"
    }
   },
   "outputs": [
    {
     "name": "stdout",
     "output_type": "stream",
     "text": [
      "The model's mean accuracy score on the test set it 0.88\n"
     ]
    }
   ],
   "source": [
    "sc=log_reg.score(X_test, y_test)\n",
    "print(\"The model's mean accuracy score on the test set it\", sc)"
   ]
  },
  {
   "cell_type": "code",
   "execution_count": 45,
   "metadata": {
    "ExecuteTime": {
     "end_time": "2020-04-17T15:33:33.298186Z",
     "start_time": "2020-04-17T15:33:33.046878Z"
    }
   },
   "outputs": [
    {
     "data": {
      "text/plain": [
       "<matplotlib.legend.Legend at 0x27406a29080>"
      ]
     },
     "execution_count": 45,
     "metadata": {},
     "output_type": "execute_result"
    },
    {
     "data": {
      "image/png": "[encoded data removed]",
      "text/plain": [
       "<Figure size 1296x360 with 1 Axes>"
      ]
     },
     "metadata": {
      "needs_background": "light"
     },
     "output_type": "display_data"
    }
   ],
   "source": [
    "y_pred=np.around(log_reg.predict_proba(X))\n",
    "y_pred=y_pred[:,1]\n",
    "plt.figure(figsize=(18,5))\n",
    "plt.plot(y,linewidth=3, label='Actual Classification')\n",
    "plt.plot(y_pred,linewidth=3, label='Predicted Classificaiton')\n",
    "plt.title('Logistic Regression Seizure Predictions')\n",
    "plt.ylabel('Prediction of Seizure')\n",
    "plt.xlabel('Observations')\n",
    "plt.legend(loc='upper center', bbox_to_anchor=(0.5, -0.05),\n",
    "          fancybox=True, shadow=True, ncol=2)\n",
    "\n",
    "#blue line- true classification\n",
    "#orange line prediction, so where you see the blue misclassificaiton "
   ]
  },
  {
   "cell_type": "markdown",
   "metadata": {},
   "source": [
    "# KNN"
   ]
  },
  {
   "cell_type": "code",
   "execution_count": 18,
   "metadata": {
    "ExecuteTime": {
     "end_time": "2020-04-10T15:39:16.809278Z",
     "start_time": "2020-04-10T15:39:16.806286Z"
    }
   },
   "outputs": [],
   "source": [
    "from sklearn.neighbors import KNeighborsClassifier"
   ]
  },
  {
   "cell_type": "code",
   "execution_count": 19,
   "metadata": {
    "ExecuteTime": {
     "end_time": "2020-04-10T15:44:35.385400Z",
     "start_time": "2020-04-10T15:39:16.943914Z"
    }
   },
   "outputs": [],
   "source": [
    "acc = []\n",
    "\n",
    "for i in range(1,40):\n",
    "    knn = KNeighborsClassifier(n_neighbors=i)\n",
    "    knn.fit(X_train,y_train)\n",
    "    score = knn.score(X_test,y_test)\n",
    "    acc.append(score)"
   ]
  },
  {
   "cell_type": "code",
   "execution_count": 20,
   "metadata": {
    "ExecuteTime": {
     "end_time": "2020-04-10T15:44:35.671384Z",
     "start_time": "2020-04-10T15:44:35.506886Z"
    }
   },
   "outputs": [
    {
     "data": {
      "text/plain": [
       "Text(0, 0.5, 'Accuracy')"
      ]
     },
     "execution_count": 20,
     "metadata": {},
     "output_type": "execute_result"
    },
    {
     "data": {
      "image/png": "[encoded data removed]",
      "text/plain": [
       "<Figure size 720x432 with 1 Axes>"
      ]
     },
     "metadata": {
      "needs_background": "light"
     },
     "output_type": "display_data"
    }
   ],
   "source": [
    "plt.figure(figsize=(10,6))\n",
    "plt.plot(range(1,40),error_rate,color='blue', linestyle='dashed', marker='o',\n",
    "         markerfacecolor='red', markersize=10)\n",
    "plt.title('Accuracy vs. K Value')\n",
    "plt.xlabel('K')\n",
    "plt.ylabel('Accuracy')"
   ]
  },
  {
   "cell_type": "code",
   "execution_count": 21,
   "metadata": {
    "ExecuteTime": {
     "end_time": "2020-04-10T15:44:42.748486Z",
     "start_time": "2020-04-10T15:44:35.790067Z"
    }
   },
   "outputs": [
    {
     "data": {
      "text/plain": [
       "0.9495652173913044"
      ]
     },
     "execution_count": 21,
     "metadata": {},
     "output_type": "execute_result"
    }
   ],
   "source": [
    "knn = KNeighborsClassifier(n_neighbors=1)\n",
    "knn.fit(X_train,y_train)\n",
    "knn.score(X_test,y_test)"
   ]
  },
  {
   "cell_type": "code",
   "execution_count": 22,
   "metadata": {
    "ExecuteTime": {
     "end_time": "2020-04-10T15:44:49.796605Z",
     "start_time": "2020-04-10T15:44:42.874948Z"
    }
   },
   "outputs": [],
   "source": [
    "pred=knn.predict(X_test)"
   ]
  },
  {
   "cell_type": "code",
   "execution_count": 23,
   "metadata": {
    "ExecuteTime": {
     "end_time": "2020-04-10T15:44:49.921097Z",
     "start_time": "2020-04-10T15:44:49.917125Z"
    }
   },
   "outputs": [],
   "source": [
    "from sklearn.metrics import classification_report,confusion_matrix"
   ]
  },
  {
   "cell_type": "code",
   "execution_count": 24,
   "metadata": {
    "ExecuteTime": {
     "end_time": "2020-04-10T15:44:50.056024Z",
     "start_time": "2020-04-10T15:44:50.044014Z"
    }
   },
   "outputs": [
    {
     "name": "stdout",
     "output_type": "stream",
     "text": [
      "[[1832    3]\n",
      " [ 113  352]]\n",
      "              precision    recall  f1-score   support\n",
      "\n",
      "           0       0.94      1.00      0.97      1835\n",
      "           1       0.99      0.76      0.86       465\n",
      "\n",
      "    accuracy                           0.95      2300\n",
      "   macro avg       0.97      0.88      0.91      2300\n",
      "weighted avg       0.95      0.95      0.95      2300\n",
      "\n"
     ]
    }
   ],
   "source": [
    "print(confusion_matrix(y_test,pred))\n",
    "print(classification_report(y_test,pred))"
   ]
  },
  {
   "cell_type": "code",
   "execution_count": 25,
   "metadata": {
    "ExecuteTime": {
     "end_time": "2020-04-10T15:48:58.331448Z",
     "start_time": "2020-04-10T15:44:50.056978Z"
    }
   },
   "outputs": [],
   "source": [
    "acc = []\n",
    "\n",
    "for i in range(1,40):\n",
    "    knn = KNeighborsClassifier(n_neighbors=i,p=1)\n",
    "    knn.fit(X_train,y_train)\n",
    "    score = knn.score(X_test,y_test)\n",
    "    acc.append(score)"
   ]
  },
  {
   "cell_type": "code",
   "execution_count": 26,
   "metadata": {
    "ExecuteTime": {
     "end_time": "2020-04-10T15:48:58.603107Z",
     "start_time": "2020-04-10T15:48:58.455501Z"
    }
   },
   "outputs": [
    {
     "data": {
      "text/plain": [
       "Text(0, 0.5, 'Accuracy')"
      ]
     },
     "execution_count": 26,
     "metadata": {},
     "output_type": "execute_result"
    },
    {
     "data": {
      "image/png": "[encoded data removed]",
      "text/plain": [
       "<Figure size 720x432 with 1 Axes>"
      ]
     },
     "metadata": {
      "needs_background": "light"
     },
     "output_type": "display_data"
    }
   ],
   "source": [
    "plt.figure(figsize=(10,6))\n",
    "plt.plot(range(1,40),error_rate,color='blue', linestyle='dashed', marker='o',\n",
    "         markerfacecolor='red', markersize=10)\n",
    "plt.title('Accuracy vs. K Value')\n",
    "plt.xlabel('K')\n",
    "plt.ylabel('Accuracy')"
   ]
  },
  {
   "cell_type": "code",
   "execution_count": 27,
   "metadata": {
    "ExecuteTime": {
     "end_time": "2020-04-10T15:49:04.990652Z",
     "start_time": "2020-04-10T15:48:58.730399Z"
    }
   },
   "outputs": [
    {
     "data": {
      "text/plain": [
       "0.9478260869565217"
      ]
     },
     "execution_count": 27,
     "metadata": {},
     "output_type": "execute_result"
    }
   ],
   "source": [
    "knn = KNeighborsClassifier(n_neighbors=1,p=1)\n",
    "knn.fit(X_train,y_train)\n",
    "knn.score(X_test,y_test)"
   ]
  },
  {
   "cell_type": "code",
   "execution_count": 28,
   "metadata": {
    "ExecuteTime": {
     "end_time": "2020-04-10T15:49:11.864263Z",
     "start_time": "2020-04-10T15:49:05.131276Z"
    }
   },
   "outputs": [],
   "source": [
    "pred=knn.predict(X_test)"
   ]
  },
  {
   "cell_type": "code",
   "execution_count": 29,
   "metadata": {
    "ExecuteTime": {
     "end_time": "2020-04-10T15:49:12.147544Z",
     "start_time": "2020-04-10T15:49:12.135537Z"
    }
   },
   "outputs": [
    {
     "name": "stdout",
     "output_type": "stream",
     "text": [
      "[[1835    0]\n",
      " [ 120  345]]\n",
      "              precision    recall  f1-score   support\n",
      "\n",
      "           0       0.94      1.00      0.97      1835\n",
      "           1       1.00      0.74      0.85       465\n",
      "\n",
      "    accuracy                           0.95      2300\n",
      "   macro avg       0.97      0.87      0.91      2300\n",
      "weighted avg       0.95      0.95      0.94      2300\n",
      "\n"
     ]
    }
   ],
   "source": [
    "print(confusion_matrix(y_test,pred))\n",
    "print(classification_report(y_test,pred))"
   ]
  },
  {
   "cell_type": "markdown",
   "metadata": {},
   "source": [
    "# Decision Tree"
   ]
  },
  {
   "cell_type": "code",
   "execution_count": 46,
   "metadata": {
    "ExecuteTime": {
     "end_time": "2020-04-23T12:48:39.733339Z",
     "start_time": "2020-04-23T12:48:39.728388Z"
    }
   },
   "outputs": [],
   "source": [
    "from sklearn.tree import DecisionTreeClassifier\n",
    "from sklearn.tree import plot_tree"
   ]
  },
  {
   "cell_type": "code",
   "execution_count": 17,
   "metadata": {
    "ExecuteTime": {
     "end_time": "2020-04-23T12:28:17.511483Z",
     "start_time": "2020-04-23T12:28:16.588975Z"
    },
    "scrolled": true
   },
   "outputs": [
    {
     "data": {
      "text/plain": [
       "DecisionTreeClassifier(class_weight=None, criterion='gini', max_depth=None,\n",
       "                       max_features=None, max_leaf_nodes=None,\n",
       "                       min_impurity_decrease=0.0, min_impurity_split=None,\n",
       "                       min_samples_leaf=1, min_samples_split=2,\n",
       "                       min_weight_fraction_leaf=0.0, presort=False,\n",
       "                       random_state=42, splitter='best')"
      ]
     },
     "execution_count": 17,
     "metadata": {},
     "output_type": "execute_result"
    }
   ],
   "source": [
    "dtree=DecisionTreeClassifier(random_state=42)\n",
    "\n",
    "dtree.fit(X_train, y_train)"
   ]
  },
  {
   "cell_type": "code",
   "execution_count": 18,
   "metadata": {
    "ExecuteTime": {
     "end_time": "2020-04-23T12:28:19.787289Z",
     "start_time": "2020-04-23T12:28:19.776254Z"
    }
   },
   "outputs": [],
   "source": [
    "predictions=dtree.predict(X_test)"
   ]
  },
  {
   "cell_type": "code",
   "execution_count": 19,
   "metadata": {
    "ExecuteTime": {
     "end_time": "2020-04-23T12:28:21.839172Z",
     "start_time": "2020-04-23T12:28:21.829388Z"
    },
    "scrolled": true
   },
   "outputs": [
    {
     "name": "stdout",
     "output_type": "stream",
     "text": [
      "              precision    recall  f1-score   support\n",
      "\n",
      "           0       0.88      0.97      0.93        77\n",
      "           1       0.87      0.57      0.68        23\n",
      "\n",
      "    accuracy                           0.88       100\n",
      "   macro avg       0.87      0.77      0.81       100\n",
      "weighted avg       0.88      0.88      0.87       100\n",
      "\n",
      "[[75  2]\n",
      " [10 13]]\n"
     ]
    }
   ],
   "source": [
    "from sklearn.metrics import classification_report, confusion_matrix\n",
    "print(classification_report(y_test,predictions))\n",
    "print(confusion_matrix(y_test,predictions))"
   ]
  },
  {
   "cell_type": "code",
   "execution_count": 72,
   "metadata": {
    "ExecuteTime": {
     "end_time": "2020-04-23T15:21:35.531819Z",
     "start_time": "2020-04-23T15:21:34.686772Z"
    }
   },
   "outputs": [
    {
     "data": {
      "text/plain": [
       "DecisionTreeClassifier(class_weight=None, criterion='gini', max_depth=100,\n",
       "                       max_features=None, max_leaf_nodes=None,\n",
       "                       min_impurity_decrease=0.0, min_impurity_split=None,\n",
       "                       min_samples_leaf=2, min_samples_split=2,\n",
       "                       min_weight_fraction_leaf=0.0, presort=False,\n",
       "                       random_state=42, splitter='best')"
      ]
     },
     "execution_count": 72,
     "metadata": {},
     "output_type": "execute_result"
    }
   ],
   "source": [
    "dtree=DecisionTreeClassifier(random_state=42,\n",
    "                            max_depth=100,\n",
    "                            min_samples_leaf=2)\n",
    "dtree.fit(X_train, y_train)"
   ]
  },
  {
   "cell_type": "code",
   "execution_count": 20,
   "metadata": {
    "ExecuteTime": {
     "end_time": "2020-04-23T12:28:25.336806Z",
     "start_time": "2020-04-23T12:28:24.168759Z"
    },
    "scrolled": true
   },
   "outputs": [
    {
     "name": "stdout",
     "output_type": "stream",
     "text": [
      "              precision    recall  f1-score   support\n",
      "\n",
      "           0       0.90      0.97      0.94        77\n",
      "           1       0.88      0.65      0.75        23\n",
      "\n",
      "    accuracy                           0.90       100\n",
      "   macro avg       0.89      0.81      0.84       100\n",
      "weighted avg       0.90      0.90      0.89       100\n",
      "\n",
      "[[75  2]\n",
      " [ 8 15]]\n"
     ]
    }
   ],
   "source": [
    "dtree=DecisionTreeClassifier(random_state=42,\n",
    "                            max_depth=100,\n",
    "                            min_samples_leaf=2)\n",
    "dtree.fit(X_train, y_train)\n",
    "predictions=dtree.predict(X_test)\n",
    "print(classification_report(y_test,predictions))\n",
    "print(confusion_matrix(y_test,predictions))"
   ]
  },
  {
   "cell_type": "code",
   "execution_count": 52,
   "metadata": {
    "ExecuteTime": {
     "end_time": "2020-04-23T12:50:25.698490Z",
     "start_time": "2020-04-23T12:50:24.640862Z"
    },
    "scrolled": true
   },
   "outputs": [
    {
     "data": {
      "image/png": "[encoded data removed]",
      "text/plain": [
       "<Figure size 720x720 with 1 Axes>"
      ]
     },
     "metadata": {
      "needs_background": "light"
     },
     "output_type": "display_data"
    }
   ],
   "source": [
    "plt.figure(figsize=(10,10))\n",
    "plot_tree(dtree);"
   ]
  },
  {
   "cell_type": "markdown",
   "metadata": {},
   "source": [
    "# Random Forest"
   ]
  },
  {
   "cell_type": "code",
   "execution_count": 27,
   "metadata": {
    "ExecuteTime": {
     "end_time": "2020-04-23T12:29:30.045863Z",
     "start_time": "2020-04-23T12:29:30.018692Z"
    }
   },
   "outputs": [],
   "source": [
    "from sklearn.ensemble import RandomForestClassifier"
   ]
  },
  {
   "cell_type": "code",
   "execution_count": 28,
   "metadata": {
    "ExecuteTime": {
     "end_time": "2020-04-23T12:29:32.277148Z",
     "start_time": "2020-04-23T12:29:32.144361Z"
    }
   },
   "outputs": [
    {
     "data": {
      "text/plain": [
       "RandomForestClassifier(bootstrap=True, class_weight=None, criterion='gini',\n",
       "                       max_depth=None, max_features='auto', max_leaf_nodes=None,\n",
       "                       min_impurity_decrease=0.0, min_impurity_split=None,\n",
       "                       min_samples_leaf=1, min_samples_split=2,\n",
       "                       min_weight_fraction_leaf=0.0, n_estimators=10,\n",
       "                       n_jobs=None, oob_score=False, random_state=42, verbose=0,\n",
       "                       warm_start=False)"
      ]
     },
     "execution_count": 28,
     "metadata": {},
     "output_type": "execute_result"
    }
   ],
   "source": [
    "rf=RandomForestClassifier(random_state=42)\n",
    "rf.fit(X_train, y_train)"
   ]
  },
  {
   "cell_type": "code",
   "execution_count": 29,
   "metadata": {
    "ExecuteTime": {
     "end_time": "2020-04-23T12:29:34.447955Z",
     "start_time": "2020-04-23T12:29:34.429114Z"
    },
    "scrolled": true
   },
   "outputs": [
    {
     "name": "stdout",
     "output_type": "stream",
     "text": [
      "              precision    recall  f1-score   support\n",
      "\n",
      "           0       0.95      1.00      0.97        77\n",
      "           1       1.00      0.83      0.90        23\n",
      "\n",
      "    accuracy                           0.96       100\n",
      "   macro avg       0.98      0.91      0.94       100\n",
      "weighted avg       0.96      0.96      0.96       100\n",
      "\n",
      "[[77  0]\n",
      " [ 4 19]]\n"
     ]
    }
   ],
   "source": [
    "rf_predictions=rf.predict(X_test)\n",
    "print(classification_report(y_test,rf_predictions))\n",
    "print(confusion_matrix(y_test,rf_predictions))"
   ]
  },
  {
   "cell_type": "code",
   "execution_count": 30,
   "metadata": {
    "ExecuteTime": {
     "end_time": "2020-04-23T12:29:36.814496Z",
     "start_time": "2020-04-23T12:29:36.534712Z"
    }
   },
   "outputs": [
    {
     "name": "stdout",
     "output_type": "stream",
     "text": [
      "              precision    recall  f1-score   support\n",
      "\n",
      "           0       0.95      1.00      0.97        77\n",
      "           1       1.00      0.83      0.90        23\n",
      "\n",
      "    accuracy                           0.96       100\n",
      "   macro avg       0.98      0.91      0.94       100\n",
      "weighted avg       0.96      0.96      0.96       100\n",
      "\n",
      "[[77  0]\n",
      " [ 4 19]]\n"
     ]
    }
   ],
   "source": [
    "rf=RandomForestClassifier(bootstrap=True, class_weight=None, criterion='gini',\n",
    "                       max_depth=10, max_features='auto', max_leaf_nodes=None,\n",
    "                       min_impurity_decrease=0.0, min_impurity_split=None,\n",
    "                       min_samples_leaf=1, min_samples_split=2,\n",
    "                       min_weight_fraction_leaf=0.001, n_estimators=10,\n",
    "                       n_jobs=10, oob_score=False, random_state=42, verbose=0,\n",
    "                       warm_start=False)\n",
    "rf.fit(X_train, y_train)\n",
    "rf_predictions=rf.predict(X_test)\n",
    "print(classification_report(y_test,rf_predictions))\n",
    "print(confusion_matrix(y_test,rf_predictions))"
   ]
  },
  {
   "cell_type": "code",
   "execution_count": 38,
   "metadata": {
    "ExecuteTime": {
     "end_time": "2020-04-23T12:36:49.913844Z",
     "start_time": "2020-04-23T12:36:44.901442Z"
    },
    "collapsed": true
   },
   "outputs": [
    {
     "name": "stdout",
     "output_type": "stream",
     "text": [
      "Collecting pydot\n",
      "  Downloading https://files.pythonhosted.org/packages/33/d1/b1479a770f66d962f545c2101630ce1d5592d90cb4f083d38862e93d16d2/pydot-1.4.1-py2.py3-none-any.whl\n",
      "Requirement already satisfied: pyparsing>=2.1.4 in c:\\programdata\\anaconda3\\lib\\site-packages (from pydot) (2.4.0)\n",
      "Installing collected packages: pydot\n",
      "Successfully installed pydot-1.4.1\n",
      "Note: you may need to restart the kernel to use updated packages.\n"
     ]
    }
   ],
   "source": [
    "#pip install pydot"
   ]
  },
  {
   "cell_type": "code",
   "execution_count": 40,
   "metadata": {
    "ExecuteTime": {
     "end_time": "2020-04-23T12:37:30.771227Z",
     "start_time": "2020-04-23T12:37:30.112257Z"
    }
   },
   "outputs": [],
   "source": [
    "from sklearn.tree import export_graphviz\n",
    "estimator=rf.estimators_[5]\n",
    "# Export as dot file\n",
    "export_graphviz(estimator, out_file='tree.dot', \n",
    "                rounded = True, proportion = False, \n",
    "                precision = 2, filled = True)\n",
    "import pydot\n",
    "(graph,) = pydot.graph_from_dot_file('tree.dot')\n",
    "graph.write_png('tree.png')\n"
   ]
  },
  {
   "cell_type": "markdown",
   "metadata": {},
   "source": [
    "# Convolutional Neural Network"
   ]
  },
  {
   "cell_type": "markdown",
   "metadata": {
    "ExecuteTime": {
     "end_time": "2020-04-10T15:34:57.341381Z",
     "start_time": "2020-04-10T15:34:57.338388Z"
    }
   },
   "source": [
    "## Convert to Numpy Arrays"
   ]
  },
  {
   "cell_type": "code",
   "execution_count": 21,
   "metadata": {
    "ExecuteTime": {
     "end_time": "2020-04-16T14:18:08.219813Z",
     "start_time": "2020-04-16T14:18:08.215825Z"
    }
   },
   "outputs": [],
   "source": [
    "train_y=y_train.values\n",
    "train_X=X_train.values\n",
    "test_y=y_test.values\n",
    "test_X=X_test.values"
   ]
  },
  {
   "cell_type": "markdown",
   "metadata": {},
   "source": [
    "## Add Dimensions"
   ]
  },
  {
   "cell_type": "code",
   "execution_count": 24,
   "metadata": {
    "ExecuteTime": {
     "end_time": "2020-04-16T14:18:16.998349Z",
     "start_time": "2020-04-16T14:18:16.980396Z"
    }
   },
   "outputs": [],
   "source": [
    "#y_train = y_train.reshape(y_train.shape + (1,))\n",
    "train_X = train_X.reshape(train_X.shape + (1,))\n",
    "train_X.reshape([-1,9200, 178,1])\n",
    "#y_test = y_test.reshape(y_test.shape + (1,))\n",
    "test_X = test_X.reshape(test_X.shape + (1,))"
   ]
  },
  {
   "cell_type": "code",
   "execution_count": 25,
   "metadata": {
    "ExecuteTime": {
     "end_time": "2020-04-16T14:18:17.789723Z",
     "start_time": "2020-04-16T14:18:17.785735Z"
    }
   },
   "outputs": [
    {
     "data": {
      "text/plain": [
       "(400, 4094, 1, 1)"
      ]
     },
     "execution_count": 25,
     "metadata": {},
     "output_type": "execute_result"
    }
   ],
   "source": [
    "train_X.shape"
   ]
  },
  {
   "cell_type": "markdown",
   "metadata": {},
   "source": [
    "## Build the Model"
   ]
  },
  {
   "cell_type": "code",
   "execution_count": 46,
   "metadata": {
    "ExecuteTime": {
     "end_time": "2020-04-17T15:39:58.543369Z",
     "start_time": "2020-04-17T15:39:58.478455Z"
    }
   },
   "outputs": [],
   "source": [
    "model = models.Sequential()\n",
    "model.add(layers.Conv2D(4094, (1, 1), activation='relu', input_shape=(4094,1,1)))\n",
    "model.add(layers.MaxPooling2D(pool_size=(1, 1),padding='same'))\n",
    "model.add(layers.Conv2D(64, (1, 1), activation='relu'))\n",
    "model.add(layers.MaxPooling2D((1, 1)))\n",
    "model.add(layers.Conv2D(64, (1, 1), activation='relu'))"
   ]
  },
  {
   "cell_type": "code",
   "execution_count": 47,
   "metadata": {
    "ExecuteTime": {
     "end_time": "2020-04-17T15:39:59.732928Z",
     "start_time": "2020-04-17T15:39:59.614426Z"
    }
   },
   "outputs": [],
   "source": [
    "model.add(layers.Flatten())\n",
    "model.add(layers.Dense(64, activation='relu'))\n",
    "model.add(layers.Dense(10, activation='softmax'))"
   ]
  },
  {
   "cell_type": "code",
   "execution_count": 48,
   "metadata": {
    "ExecuteTime": {
     "end_time": "2020-04-17T15:40:04.832915Z",
     "start_time": "2020-04-17T15:40:04.825986Z"
    }
   },
   "outputs": [
    {
     "name": "stdout",
     "output_type": "stream",
     "text": [
      "Model: \"sequential\"\n",
      "_________________________________________________________________\n",
      "Layer (type)                 Output Shape              Param #   \n",
      "=================================================================\n",
      "conv2d (Conv2D)              (None, 4094, 1, 4094)     8188      \n",
      "_________________________________________________________________\n",
      "max_pooling2d (MaxPooling2D) (None, 4094, 1, 4094)     0         \n",
      "_________________________________________________________________\n",
      "conv2d_1 (Conv2D)            (None, 4094, 1, 64)       262080    \n",
      "_________________________________________________________________\n",
      "max_pooling2d_1 (MaxPooling2 (None, 4094, 1, 64)       0         \n",
      "_________________________________________________________________\n",
      "conv2d_2 (Conv2D)            (None, 4094, 1, 64)       4160      \n",
      "_________________________________________________________________\n",
      "flatten (Flatten)            (None, 262016)            0         \n",
      "_________________________________________________________________\n",
      "dense (Dense)                (None, 64)                16769088  \n",
      "_________________________________________________________________\n",
      "dense_1 (Dense)              (None, 10)                650       \n",
      "=================================================================\n",
      "Total params: 17,044,166\n",
      "Trainable params: 17,044,166\n",
      "Non-trainable params: 0\n",
      "_________________________________________________________________\n"
     ]
    }
   ],
   "source": [
    "model.summary()"
   ]
  },
  {
   "cell_type": "markdown",
   "metadata": {},
   "source": [
    "## Compile and Train the Model"
   ]
  },
  {
   "cell_type": "code",
   "execution_count": 31,
   "metadata": {
    "ExecuteTime": {
     "end_time": "2020-04-16T16:07:51.916098Z",
     "start_time": "2020-04-16T14:19:00.173137Z"
    }
   },
   "outputs": [
    {
     "name": "stdout",
     "output_type": "stream",
     "text": [
      "Train on 400 samples, validate on 100 samples\n",
      "Epoch 1/10\n",
      "400/400 [==============================] - 639s 2s/sample - loss: 1.1187 - accuracy: 0.7225 - val_loss: 0.0994 - val_accuracy: 0.9600\n",
      "Epoch 2/10\n",
      "400/400 [==============================] - 604s 2s/sample - loss: 0.0543 - accuracy: 0.9775 - val_loss: 0.0504 - val_accuracy: 0.9700\n",
      "Epoch 3/10\n",
      "400/400 [==============================] - 583s 1s/sample - loss: 0.0194 - accuracy: 0.9950 - val_loss: 0.0375 - val_accuracy: 0.9900\n",
      "Epoch 4/10\n",
      "400/400 [==============================] - 553s 1s/sample - loss: 0.0029 - accuracy: 1.0000 - val_loss: 0.0412 - val_accuracy: 0.9800\n",
      "Epoch 5/10\n",
      "400/400 [==============================] - 571s 1s/sample - loss: 0.0020 - accuracy: 1.0000 - val_loss: 0.0656 - val_accuracy: 0.9900\n",
      "Epoch 6/10\n",
      "400/400 [==============================] - 542s 1s/sample - loss: 5.8456e-04 - accuracy: 1.0000 - val_loss: 0.0397 - val_accuracy: 0.9900\n",
      "Epoch 7/10\n",
      "400/400 [==============================] - 548s 1s/sample - loss: 2.0565e-04 - accuracy: 1.0000 - val_loss: 0.0404 - val_accuracy: 0.9900\n",
      "Epoch 8/10\n",
      "400/400 [==============================] - 628s 2s/sample - loss: 1.1521e-04 - accuracy: 1.0000 - val_loss: 0.0509 - val_accuracy: 0.9900\n",
      "Epoch 9/10\n",
      "400/400 [==============================] - 902s 2s/sample - loss: 8.3127e-05 - accuracy: 1.0000 - val_loss: 0.0546 - val_accuracy: 0.9900\n",
      "Epoch 10/10\n",
      "400/400 [==============================] - 962s 2s/sample - loss: 7.3149e-05 - accuracy: 1.0000 - val_loss: 0.0525 - val_accuracy: 0.9900\n"
     ]
    }
   ],
   "source": [
    "model.compile(optimizer='adam',\n",
    "              loss='sparse_categorical_crossentropy',\n",
    "              metrics=['accuracy'])\n",
    "\n",
    "history = model.fit(train_X, train_y, epochs=10, \n",
    "                    validation_data=(test_X, test_y))"
   ]
  },
  {
   "cell_type": "markdown",
   "metadata": {
    "ExecuteTime": {
     "end_time": "2020-04-10T15:37:15.383250Z",
     "start_time": "2020-04-10T15:37:15.380258Z"
    }
   },
   "source": [
    "## CNN Results"
   ]
  },
  {
   "cell_type": "code",
   "execution_count": 35,
   "metadata": {
    "ExecuteTime": {
     "end_time": "2020-04-16T16:50:04.801974Z",
     "start_time": "2020-04-16T16:48:58.118063Z"
    }
   },
   "outputs": [
    {
     "name": "stdout",
     "output_type": "stream",
     "text": [
      "100/1 - 66s - loss: 0.0262 - accuracy: 0.9900\n"
     ]
    },
    {
     "data": {
      "image/png": "[encoded data removed]",
      "text/plain": [
       "<Figure size 432x288 with 1 Axes>"
      ]
     },
     "metadata": {
      "needs_background": "light"
     },
     "output_type": "display_data"
    }
   ],
   "source": [
    "plt.plot(history.history['accuracy'], label='accuracy')\n",
    "plt.plot(history.history['val_accuracy'], label = 'val_accuracy')\n",
    "plt.xlabel('Epoch')\n",
    "plt.ylabel('Accuracy - NOTE SCALE')\n",
    "plt.ylim([0.9, 1.01])\n",
    "plt.legend(loc='lower right')\n",
    "\n",
    "test_loss, test_acc = model.evaluate(test_X, test_y, verbose=2)"
   ]
  },
  {
   "cell_type": "code",
   "execution_count": 33,
   "metadata": {
    "ExecuteTime": {
     "end_time": "2020-04-16T16:11:01.398371Z",
     "start_time": "2020-04-16T16:11:01.392382Z"
    }
   },
   "outputs": [
    {
     "name": "stdout",
     "output_type": "stream",
     "text": [
      "0.99\n"
     ]
    }
   ],
   "source": [
    "print(test_acc)"
   ]
  },
  {
   "cell_type": "code",
   "execution_count": null,
   "metadata": {},
   "outputs": [],
   "source": []
  }
 ],
 "metadata": {
  "hide_input": false,
  "kernelspec": {
   "display_name": "Python 3",
   "language": "python",
   "name": "python3"
  },
  "language_info": {
   "codemirror_mode": {
    "name": "ipython",
    "version": 3
   },
   "file_extension": ".py",
   "mimetype": "text/x-python",
   "name": "python",
   "nbconvert_exporter": "python",
   "pygments_lexer": "ipython3",
   "version": "3.7.4"
  },
  "toc": {
   "base_numbering": 1,
   "nav_menu": {},
   "number_sections": true,
   "sideBar": true,
   "skip_h1_title": false,
   "title_cell": "Table of Contents",
   "title_sidebar": "Contents",
   "toc_cell": false,
   "toc_position": {},
   "toc_section_display": true,
   "toc_window_display": false
  },
  "varInspector": {
   "cols": {
    "lenName": 16,
    "lenType": 16,
    "lenVar": 40
   },
   "kernels_config": {
    "python": {
     "delete_cmd_postfix": "",
     "delete_cmd_prefix": "del ",
     "library": "var_list.py",
     "varRefreshCmd": "print(var_dic_list())"
    },
    "r": {
     "delete_cmd_postfix": ") ",
     "delete_cmd_prefix": "rm(",
     "library": "var_list.r",
     "varRefreshCmd": "cat(var_dic_list()) "
    }
   },
   "types_to_exclude": [
    "module",
    "function",
    "builtin_function_or_method",
    "instance",
    "_Feature"
   ],
   "window_display": false
  }
 },
 "nbformat": 4,
 "nbformat_minor": 2
}
